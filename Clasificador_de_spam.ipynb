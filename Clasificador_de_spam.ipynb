{
  "nbformat": 4,
  "nbformat_minor": 0,
  "metadata": {
    "colab": {
      "name": "Clasificador de spam",
      "provenance": [],
      "collapsed_sections": []
    },
    "kernelspec": {
      "name": "python3",
      "display_name": "Python 3"
    }
  },
  "cells": [
    {
      "cell_type": "markdown",
      "metadata": {
        "id": "ELhHwwPAgzOL",
        "colab_type": "text"
      },
      "source": [
        "# Clasificador de spam"
      ]
    },
    {
      "cell_type": "code",
      "metadata": {
        "id": "C5TQtUaPd1QE",
        "colab_type": "code",
        "outputId": "9301d42f-8384-47f9-eb60-630255a857d8",
        "colab": {
          "base_uri": "https://localhost:8080/",
          "height": 54
        }
      },
      "source": [
        "from google.colab import drive\n",
        "drive.mount('/content/drive')"
      ],
      "execution_count": 1,
      "outputs": [
        {
          "output_type": "stream",
          "text": [
            "Drive already mounted at /content/drive; to attempt to forcibly remount, call drive.mount(\"/content/drive\", force_remount=True).\n"
          ],
          "name": "stdout"
        }
      ]
    },
    {
      "cell_type": "markdown",
      "metadata": {
        "id": "Tv84g9GEhfbk",
        "colab_type": "text"
      },
      "source": [
        "## Recopilado y limpieza de texto\n",
        "Se toman dos archivos de texto plano:\n",
        "\n",
        "\n",
        "*   Uno que contiene las palabras caracteristicas de spam\n",
        "*   Uno que contiene las palabras caracteristicas de ham\n",
        "\n",
        "Ambos son procesados y limpiados para generar una lista de palabras.\n",
        "\n"
      ]
    },
    {
      "cell_type": "code",
      "metadata": {
        "id": "SrALGsH2izVL",
        "colab_type": "code",
        "colab": {}
      },
      "source": [
        "def limpiatexto(texto):\n",
        "\tfor c in texto:\n",
        "\t\tif c in ['.', '!', '?', '\\n', '\\t', '-', '¿', '¡', ':']:\n",
        "\t\t\ttexto = texto.replace(c, ' ')\n",
        "\t\tif ord(c) in range(ord('a'), ord('z') + 1) or ord(c) in range(ord('A'), ord('Z') + 1) or c in [' ', 'á', 'é', 'í', 'ó', 'ú', 'Á', 'É', 'Í', 'Ó', 'Ú']:\n",
        "\t\t\tpass\n",
        "\t\telse:\n",
        "\t\t\ttexto = texto.replace(c, '')\n",
        "\ttexto = texto.lower()\n",
        "\treturn texto\n",
        "\n",
        "def limpialista(lista):\n",
        "\taux = list()\n",
        "\tfor l in lista:\n",
        "\t\tl.replace(' ','')\n",
        "\t\tif l != '':\n",
        "\t\t\taux.append(l)\n",
        "\treturn aux\n",
        "\n",
        "def generapalabras(doc):\n",
        "    texto = ''\n",
        "    for l in doc.readlines():\n",
        "        texto += l\n",
        "    texto = limpiatexto(texto)\n",
        "    p = texto.split(' ')\n",
        "    p = limpialista(p)\n",
        "    return p"
      ],
      "execution_count": 0,
      "outputs": []
    },
    {
      "cell_type": "code",
      "metadata": {
        "id": "_pAAXYb0lyP9",
        "colab_type": "code",
        "colab": {}
      },
      "source": [
        "spam = open('/content/drive/My Drive/Colab Notebooks/Clasificador de spam/spamesp.txt', 'r')\n",
        "ham = open('/content/drive/My Drive/Colab Notebooks/Clasificador de spam/hamesp.txt', 'r')\n",
        "p_spam = generapalabras(spam)\n",
        "p_ham = generapalabras(ham)\n",
        "spam.close()\n",
        "ham.close()"
      ],
      "execution_count": 0,
      "outputs": []
    },
    {
      "cell_type": "code",
      "metadata": {
        "id": "lcE_D_Snkcg_",
        "colab_type": "code",
        "colab": {
          "base_uri": "https://localhost:8080/",
          "height": 187
        },
        "outputId": "067e461a-6445-4406-9638-6bdb2aeb90c2"
      },
      "source": [
        "p_spam[0:10]"
      ],
      "execution_count": 4,
      "outputs": [
        {
          "output_type": "execute_result",
          "data": {
            "text/plain": [
              "['contácteme',\n",
              " 'ahora',\n",
              " 'para',\n",
              " 'ganar',\n",
              " 'hoy',\n",
              " 'actúa',\n",
              " 'ahora',\n",
              " 'para',\n",
              " 'mantener',\n",
              " 'tu']"
            ]
          },
          "metadata": {
            "tags": []
          },
          "execution_count": 4
        }
      ]
    },
    {
      "cell_type": "code",
      "metadata": {
        "id": "L0Fbavklkqqt",
        "colab_type": "code",
        "colab": {
          "base_uri": "https://localhost:8080/",
          "height": 187
        },
        "outputId": "8b32d379-bd48-4df8-9acb-630e9b0beeed"
      },
      "source": [
        "p_ham[0:10]"
      ],
      "execution_count": 5,
      "outputs": [
        {
          "output_type": "execute_result",
          "data": {
            "text/plain": [
              "['seleccione',\n",
              " 'los',\n",
              " 'servicios',\n",
              " 'que',\n",
              " 'desea',\n",
              " 'agregar',\n",
              " 'también',\n",
              " 'quiero',\n",
              " 'hablar',\n",
              " 'sobre']"
            ]
          },
          "metadata": {
            "tags": []
          },
          "execution_count": 5
        }
      ]
    },
    {
      "cell_type": "markdown",
      "metadata": {
        "id": "3WOK9vITk0bJ",
        "colab_type": "text"
      },
      "source": [
        "## Creación del dataframe\n",
        "Ahora, toca crear un dataframe de la librería **pandas** incluida en Python 3. Primero creamos dos diccionarios, uno para spam y otro para ham y a partir de estos, contruimos de una forma sencilla el dataframe."
      ]
    },
    {
      "cell_type": "code",
      "metadata": {
        "id": "ztfZWgfalm85",
        "colab_type": "code",
        "colab": {}
      },
      "source": [
        "import pandas as pd\n",
        "\n",
        "def crearbanco(palabras):\n",
        "\tbanco = {}\n",
        "\tfor p in palabras:\n",
        "\t\tif p not in banco.keys():\n",
        "\t\t\tbanco[p] = 1\n",
        "\t\telse:\n",
        "\t\t\tbanco[p] += 1\n",
        "\treturn banco\n",
        "\n",
        "def creartabla(spam, ham):\n",
        "\tllaves = list(spam.keys()) + list(ham.keys())\n",
        "\tllaves = list(set(llaves))\n",
        "\tllaves.sort()\n",
        "\tcounts, counth = list(), list()\n",
        "\tfor k in llaves:\n",
        "\t\tif k in spam.keys():\n",
        "\t\t\tcounts.append(spam[k])\n",
        "\t\telse:\n",
        "\t\t\tcounts.append(0)\n",
        "\t\tif k in ham.keys():\n",
        "\t\t\tcounth.append(ham[k])\n",
        "\t\telse:\n",
        "\t\t\tcounth.append(0)\n",
        "\tdic = {'spam':counts, 'ham':counth}\n",
        "\ttabla = pd.DataFrame(dic)\n",
        "\ttabla.index = llaves\n",
        "\treturn tabla"
      ],
      "execution_count": 0,
      "outputs": []
    },
    {
      "cell_type": "code",
      "metadata": {
        "id": "249s1VC1l5IY",
        "colab_type": "code",
        "colab": {}
      },
      "source": [
        "bancospam = crearbanco(p_spam)\n",
        "bancoham = crearbanco(p_ham)\n",
        "df_clasificador = creartabla(bancospam, bancoham)"
      ],
      "execution_count": 0,
      "outputs": []
    },
    {
      "cell_type": "code",
      "metadata": {
        "id": "My9J-_SZmdPJ",
        "colab_type": "code",
        "colab": {
          "base_uri": "https://localhost:8080/",
          "height": 173
        },
        "outputId": "cc962289-c1b4-43c2-ab9d-3ebddfbb1357"
      },
      "source": [
        "df_clasificador.loc[['por', 'favor', 'dame', 'amor']]"
      ],
      "execution_count": 8,
      "outputs": [
        {
          "output_type": "execute_result",
          "data": {
            "text/html": [
              "<div>\n",
              "<style scoped>\n",
              "    .dataframe tbody tr th:only-of-type {\n",
              "        vertical-align: middle;\n",
              "    }\n",
              "\n",
              "    .dataframe tbody tr th {\n",
              "        vertical-align: top;\n",
              "    }\n",
              "\n",
              "    .dataframe thead th {\n",
              "        text-align: right;\n",
              "    }\n",
              "</style>\n",
              "<table border=\"1\" class=\"dataframe\">\n",
              "  <thead>\n",
              "    <tr style=\"text-align: right;\">\n",
              "      <th></th>\n",
              "      <th>spam</th>\n",
              "      <th>ham</th>\n",
              "    </tr>\n",
              "  </thead>\n",
              "  <tbody>\n",
              "    <tr>\n",
              "      <th>por</th>\n",
              "      <td>37</td>\n",
              "      <td>105</td>\n",
              "    </tr>\n",
              "    <tr>\n",
              "      <th>favor</th>\n",
              "      <td>8</td>\n",
              "      <td>54</td>\n",
              "    </tr>\n",
              "    <tr>\n",
              "      <th>dame</th>\n",
              "      <td>0</td>\n",
              "      <td>3</td>\n",
              "    </tr>\n",
              "    <tr>\n",
              "      <th>amor</th>\n",
              "      <td>1</td>\n",
              "      <td>0</td>\n",
              "    </tr>\n",
              "  </tbody>\n",
              "</table>\n",
              "</div>"
            ],
            "text/plain": [
              "       spam  ham\n",
              "por      37  105\n",
              "favor     8   54\n",
              "dame      0    3\n",
              "amor      1    0"
            ]
          },
          "metadata": {
            "tags": []
          },
          "execution_count": 8
        }
      ]
    },
    {
      "cell_type": "markdown",
      "metadata": {
        "id": "B_wqHYHknKYk",
        "colab_type": "text"
      },
      "source": [
        "Podemos exportar el dataframe a un archivo de extensión .csv si es necesario."
      ]
    },
    {
      "cell_type": "markdown",
      "metadata": {
        "id": "9mDp-6v2nT-J",
        "colab_type": "text"
      },
      "source": [
        "## Clasificación a través de Naive Bayes y aplanado Laplaciano\n",
        "Obtenemos la probabilidad de que nuestro mensaje sea spam o ham utilizando el teorema de Bayes. Es importante recalcar que el uso de logaritmos es necesario ya que así se elimina el problema del **underflow**.\n",
        "\n",
        "![texto alternativo](https://latex.codecogs.com/gif.latex?P%5Cleft%20%28%20spam%7CM%20%5Cright%20%29%3D%20%5Cfrac%7BP%5Cleft%20%28M%7Cspam%20%5Cright%20%29P%28spam%29%7D%7BP%28M%29%7D)\n",
        "\n",
        "![texto alternativo](https://latex.codecogs.com/gif.latex?P%5Cleft%20%28%20ham%7CM%20%5Cright%20%29%3D%20%5Cfrac%7BP%5Cleft%20%28M%7Cham%20%5Cright%20%29P%28ham%29%7D%7BP%28M%29%7D)\n",
        "\n",
        "El problema del sobreajuste se soluciona implementando el **aplanado Laplaciano**.\n",
        "\n",
        "![texto alternativo](https://latex.codecogs.com/gif.latex?P%5Cleft%20%28x%20%3D%20e%20%5Cright%20%29%3D%20%5Cfrac%7Bcount%28x%3De%29%20&plus;%20k%7D%7B%7Ce%7C%20&plus;%20kx%7D)"
      ]
    },
    {
      "cell_type": "code",
      "metadata": {
        "id": "5myZIkvLn7iD",
        "colab_type": "code",
        "colab": {}
      },
      "source": [
        "import math\n",
        "\n",
        "def clasifica(pal, df, sumas, k):\n",
        "    cad = ' '.join(pal)\n",
        "    probspam = math.log(df['spam'].gt(0).sum()+k)-math.log(len(list(df.index))+k*2)\n",
        "    probham = math.log(df['ham'].gt(0).sum()+k)-math.log(len(list(df.index))+k*2)\n",
        "    for p in pal:\n",
        "        if p in list(df.index):\n",
        "            probspam += math.log(list(df.loc[p])[0]+k)-math.log(sumas[0]+k*len(list(df.index)))\n",
        "            probham += math.log(list(df.loc[p])[1]+k)-math.log(sumas[1]+k*len(list(df.index)))\n",
        "    res = max([probspam, probham])\n",
        "    if res == probspam:\n",
        "        return 'Tu mensaje es spam'\n",
        "    else:\n",
        "        return 'Tu mensaje es ham'\n",
        "\n",
        "def resultado(doc, df, k):\n",
        "    cad = ''\n",
        "    p_input = generapalabras(doc)\n",
        "    doc.seek(0)\n",
        "    for l in doc.readlines():\n",
        "        cad += l\n",
        "    salida = clasifica(p_input, df, list(df.sum()), k)\n",
        "    return cad + '\\n' + salida"
      ],
      "execution_count": 0,
      "outputs": []
    },
    {
      "cell_type": "code",
      "metadata": {
        "id": "HaGhhzgEtm6N",
        "colab_type": "code",
        "colab": {
          "base_uri": "https://localhost:8080/",
          "height": 51
        },
        "outputId": "84742904-545a-466d-c184-52f3f45711b4"
      },
      "source": [
        "entrada = open('/content/drive/My Drive/Colab Notebooks/Clasificador de spam/entrada1.txt', 'r')\n",
        "print(resultado(entrada, df_clasificador, 1))\n",
        "entrada.close()"
      ],
      "execution_count": 12,
      "outputs": [
        {
          "output_type": "stream",
          "text": [
            "Boris dame un abrazo muy fuerte.\n",
            "Tu mensaje es ham\n"
          ],
          "name": "stdout"
        }
      ]
    },
    {
      "cell_type": "code",
      "metadata": {
        "id": "TfhWcWuAwaN6",
        "colab_type": "code",
        "colab": {
          "base_uri": "https://localhost:8080/",
          "height": 51
        },
        "outputId": "edfcefd4-57a3-4aed-f01e-0b541a649e4e"
      },
      "source": [
        "entrada2 = open('/content/drive/My Drive/Colab Notebooks/Clasificador de spam/entrada2.txt', 'r')\n",
        "print(resultado(entrada2, df_clasificador, 1))\n",
        "entrada2.close()"
      ],
      "execution_count": 11,
      "outputs": [
        {
          "output_type": "stream",
          "text": [
            "HAGA CLICK EN ESTE ENLACE PARA GANAR UN PREMIO.\n",
            "Tu mensaje es spam\n"
          ],
          "name": "stdout"
        }
      ]
    }
  ]
}